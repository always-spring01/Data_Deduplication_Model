{
 "cells": [
  {
   "cell_type": "code",
   "execution_count": 14,
   "metadata": {},
   "outputs": [],
   "source": [
    "# 1. Import Modules\n",
    "\n",
    "import numpy as np\n",
    "import pandas as pd\n",
    "import matplotlib.pyplot as plt\n",
    "import torch, os"
   ]
  },
  {
   "cell_type": "code",
   "execution_count": 16,
   "metadata": {},
   "outputs": [],
   "source": [
    "# 2. 학습, 평가 데이터 구분\n",
    "def createFolder(dir):\n",
    "    try:\n",
    "        if not os.path.exists(dir):\n",
    "            os.makedirs(dir)\n",
    "    except OSError:\n",
    "        print(\"파일을 생성하는 과정에서 오류 발생\")\n",
    "\n",
    "A = pd.read_parquet(r\"..\\\\01_Dataset\\\\A-PAT_dedup.parquet\")\n",
    "B = pd.read_parquet(r\"..\\\\01_Dataset\\\\B-PAT_dedup.parquet\")\n",
    "\n",
    "A_0 = A[A[\"label\"] == 0]\n",
    "A_1 = A[A[\"label\"] == 1]\n",
    "\n",
    "B_0 = B[B[\"label\"] == 0]\n",
    "B_1 = B[B[\"label\"] == 1]\n",
    "\n",
    "A_test_0 = A_0.sample(frac=0.2, random_state=2024)\n",
    "A_study_0 = A_0.drop(A_test_0.index)\n",
    "A_test_1 = A_1.sample(frac=0.2, random_state=2024)\n",
    "A_study_1 = A_1.drop(A_test_1.index)\n",
    "A_test = pd.concat([A_test_0, A_test_1], ignore_index=True)\n",
    "A_study = pd.concat([A_study_0, A_study_1], ignore_index=True)\n",
    "\n",
    "B_test_0 = B_0.sample(frac=0.2, random_state=2024)\n",
    "B_study_0 = B_0.drop(B_test_0.index)\n",
    "B_test_1 = B_1.sample(frac=0.2, random_state=2024)\n",
    "B_study_1 = B_1.drop(B_test_1.index)\n",
    "B_test = pd.concat([B_test_0, B_test_1], ignore_index=True)\n",
    "B_study = pd.concat([B_study_0, B_study_1], ignore_index=True)\n",
    "\n",
    "createFolder(r\"..\\\\01_Dataset\\\\A\")\n",
    "A_test.to_parquet(r\"..\\\\01_Dataset\\\\A\\\\test.parquet\")\n",
    "A_study.to_parquet(r\"..\\\\01_Dataset\\\\A\\\\study.parquet\")\n",
    "createFolder(r\"..\\\\01_Dataset\\\\B\")\n",
    "B_test.to_parquet(r\"..\\\\01_Dataset\\\\B\\\\test.parquet\")\n",
    "B_study.to_parquet(r\"..\\\\01_Dataset\\\\B\\\\study.parquet\")"
   ]
  }
 ],
 "metadata": {
  "kernelspec": {
   "display_name": "default",
   "language": "python",
   "name": "python3"
  },
  "language_info": {
   "codemirror_mode": {
    "name": "ipython",
    "version": 3
   },
   "file_extension": ".py",
   "mimetype": "text/x-python",
   "name": "python",
   "nbconvert_exporter": "python",
   "pygments_lexer": "ipython3",
   "version": "3.11.7"
  }
 },
 "nbformat": 4,
 "nbformat_minor": 2
}
