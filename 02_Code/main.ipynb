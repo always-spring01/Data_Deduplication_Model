{
 "cells": [
  {
   "cell_type": "code",
   "execution_count": 2,
   "metadata": {
    "execution": {
     "iopub.execute_input": "2024-05-01T00:19:26.368491Z",
     "iopub.status.busy": "2024-05-01T00:19:26.368491Z",
     "iopub.status.idle": "2024-05-01T00:19:26.952537Z",
     "shell.execute_reply": "2024-05-01T00:19:26.952376Z",
     "shell.execute_reply.started": "2024-05-01T00:19:26.368491Z"
    },
    "tags": []
   },
   "outputs": [],
   "source": [
    "# 1. Import Modules\n",
    "\n",
    "import numpy as np\n",
    "import pandas as pd\n",
    "import matplotlib.pyplot as plt\n",
    "import os\n",
    "\n",
    "from numpy import dot\n",
    "from numpy.linalg import norm\n",
    "from tqdm import tqdm\n",
    "from paths import *\n",
    "from functions import *"
   ]
  },
  {
   "cell_type": "code",
   "execution_count": 4,
   "metadata": {
    "execution": {
     "iopub.execute_input": "2024-04-30T06:46:58.410752Z",
     "iopub.status.busy": "2024-04-30T06:46:58.410752Z",
     "iopub.status.idle": "2024-04-30T06:47:18.019491Z",
     "shell.execute_reply": "2024-04-30T06:47:18.019491Z",
     "shell.execute_reply.started": "2024-04-30T06:46:58.410752Z"
    },
    "tags": []
   },
   "outputs": [],
   "source": [
    "# 2. 학습, 평가 데이터 구분\n",
    "\n",
    "A = pd.read_parquet(dataset_a)\n",
    "B = pd.read_parquet(dataset_b)\n",
    "\n",
    "A_0 = A[A[\"label\"] == 0]\n",
    "A_1 = A[A[\"label\"] == 1]\n",
    "\n",
    "B_0 = B[B[\"label\"] == 0]\n",
    "B_1 = B[B[\"label\"] == 1]\n",
    "\n",
    "A_test_0 = A_0.sample(frac=0.2, random_state=2024)\n",
    "A_study_0 = A_0.drop(A_test_0.index)\n",
    "A_test_1 = A_1.sample(frac=0.2, random_state=2024)\n",
    "A_study_1 = A_1.drop(A_test_1.index)\n",
    "A_test = pd.concat([A_test_0, A_test_1], ignore_index=True)\n",
    "A_study = pd.concat([A_study_0, A_study_1], ignore_index=True)\n",
    "\n",
    "B_test_0 = B_0.sample(frac=0.2, random_state=2024)\n",
    "B_study_0 = B_0.drop(B_test_0.index)\n",
    "B_test_1 = B_1.sample(frac=0.2, random_state=2024)\n",
    "B_study_1 = B_1.drop(B_test_1.index)\n",
    "B_test = pd.concat([B_test_0, B_test_1], ignore_index=True)\n",
    "B_study = pd.concat([B_study_0, B_study_1], ignore_index=True)\n",
    "\n",
    "createFolder(output_a)\n",
    "A_test.to_parquet(test_a)\n",
    "A_study.to_parquet(study_a)\n",
    "createFolder(output_b)\n",
    "B_test.to_parquet(test_b)\n",
    "B_study.to_parquet(study_b)"
   ]
  },
  {
   "cell_type": "code",
   "execution_count": 3,
   "metadata": {
    "execution": {
     "iopub.execute_input": "2024-05-02T08:26:30.974611Z",
     "iopub.status.busy": "2024-05-02T08:26:30.974611Z",
     "iopub.status.idle": "2024-05-02T08:26:43.186580Z",
     "shell.execute_reply": "2024-05-02T08:26:43.185581Z",
     "shell.execute_reply.started": "2024-05-02T08:26:30.974611Z"
    },
    "tags": []
   },
   "outputs": [
    {
     "ename": "FileNotFoundError",
     "evalue": "[Errno 2] No such file or directory: '..\\\\03_Output\\\\A\\\\study.parquet'",
     "output_type": "error",
     "traceback": [
      "\u001b[1;31m---------------------------------------------------------------------------\u001b[0m",
      "\u001b[1;31mFileNotFoundError\u001b[0m                         Traceback (most recent call last)",
      "Cell \u001b[1;32mIn[3], line 8\u001b[0m\n\u001b[0;32m      5\u001b[0m createFolder(samples_a)\n\u001b[0;32m      6\u001b[0m createFolder(samples_b)\n\u001b[1;32m----> 8\u001b[0m A_study \u001b[38;5;241m=\u001b[39m pd\u001b[38;5;241m.\u001b[39mread_parquet(study_a)\n\u001b[0;32m      9\u001b[0m B_study \u001b[38;5;241m=\u001b[39m pd\u001b[38;5;241m.\u001b[39mread_parquet(study_b)\n\u001b[0;32m     10\u001b[0m A_study \u001b[38;5;241m=\u001b[39m A_study[A_study[\u001b[38;5;124m\"\u001b[39m\u001b[38;5;124mlabel\u001b[39m\u001b[38;5;124m\"\u001b[39m] \u001b[38;5;241m==\u001b[39m \u001b[38;5;241m0\u001b[39m]\n",
      "File \u001b[1;32mc:\\Users\\always_spring\\.conda\\envs\\default\\Lib\\site-packages\\pandas\\io\\parquet.py:670\u001b[0m, in \u001b[0;36mread_parquet\u001b[1;34m(path, engine, columns, storage_options, use_nullable_dtypes, dtype_backend, filesystem, filters, **kwargs)\u001b[0m\n\u001b[0;32m    667\u001b[0m     use_nullable_dtypes \u001b[38;5;241m=\u001b[39m \u001b[38;5;28;01mFalse\u001b[39;00m\n\u001b[0;32m    668\u001b[0m check_dtype_backend(dtype_backend)\n\u001b[1;32m--> 670\u001b[0m \u001b[38;5;28;01mreturn\u001b[39;00m impl\u001b[38;5;241m.\u001b[39mread(\n\u001b[0;32m    671\u001b[0m     path,\n\u001b[0;32m    672\u001b[0m     columns\u001b[38;5;241m=\u001b[39mcolumns,\n\u001b[0;32m    673\u001b[0m     filters\u001b[38;5;241m=\u001b[39mfilters,\n\u001b[0;32m    674\u001b[0m     storage_options\u001b[38;5;241m=\u001b[39mstorage_options,\n\u001b[0;32m    675\u001b[0m     use_nullable_dtypes\u001b[38;5;241m=\u001b[39muse_nullable_dtypes,\n\u001b[0;32m    676\u001b[0m     dtype_backend\u001b[38;5;241m=\u001b[39mdtype_backend,\n\u001b[0;32m    677\u001b[0m     filesystem\u001b[38;5;241m=\u001b[39mfilesystem,\n\u001b[0;32m    678\u001b[0m     \u001b[38;5;241m*\u001b[39m\u001b[38;5;241m*\u001b[39mkwargs,\n\u001b[0;32m    679\u001b[0m )\n",
      "File \u001b[1;32mc:\\Users\\always_spring\\.conda\\envs\\default\\Lib\\site-packages\\pandas\\io\\parquet.py:265\u001b[0m, in \u001b[0;36mPyArrowImpl.read\u001b[1;34m(self, path, columns, filters, use_nullable_dtypes, dtype_backend, storage_options, filesystem, **kwargs)\u001b[0m\n\u001b[0;32m    262\u001b[0m \u001b[38;5;28;01mif\u001b[39;00m manager \u001b[38;5;241m==\u001b[39m \u001b[38;5;124m\"\u001b[39m\u001b[38;5;124marray\u001b[39m\u001b[38;5;124m\"\u001b[39m:\n\u001b[0;32m    263\u001b[0m     to_pandas_kwargs[\u001b[38;5;124m\"\u001b[39m\u001b[38;5;124msplit_blocks\u001b[39m\u001b[38;5;124m\"\u001b[39m] \u001b[38;5;241m=\u001b[39m \u001b[38;5;28;01mTrue\u001b[39;00m  \u001b[38;5;66;03m# type: ignore[assignment]\u001b[39;00m\n\u001b[1;32m--> 265\u001b[0m path_or_handle, handles, filesystem \u001b[38;5;241m=\u001b[39m _get_path_or_handle(\n\u001b[0;32m    266\u001b[0m     path,\n\u001b[0;32m    267\u001b[0m     filesystem,\n\u001b[0;32m    268\u001b[0m     storage_options\u001b[38;5;241m=\u001b[39mstorage_options,\n\u001b[0;32m    269\u001b[0m     mode\u001b[38;5;241m=\u001b[39m\u001b[38;5;124m\"\u001b[39m\u001b[38;5;124mrb\u001b[39m\u001b[38;5;124m\"\u001b[39m,\n\u001b[0;32m    270\u001b[0m )\n\u001b[0;32m    271\u001b[0m \u001b[38;5;28;01mtry\u001b[39;00m:\n\u001b[0;32m    272\u001b[0m     pa_table \u001b[38;5;241m=\u001b[39m \u001b[38;5;28mself\u001b[39m\u001b[38;5;241m.\u001b[39mapi\u001b[38;5;241m.\u001b[39mparquet\u001b[38;5;241m.\u001b[39mread_table(\n\u001b[0;32m    273\u001b[0m         path_or_handle,\n\u001b[0;32m    274\u001b[0m         columns\u001b[38;5;241m=\u001b[39mcolumns,\n\u001b[1;32m   (...)\u001b[0m\n\u001b[0;32m    277\u001b[0m         \u001b[38;5;241m*\u001b[39m\u001b[38;5;241m*\u001b[39mkwargs,\n\u001b[0;32m    278\u001b[0m     )\n",
      "File \u001b[1;32mc:\\Users\\always_spring\\.conda\\envs\\default\\Lib\\site-packages\\pandas\\io\\parquet.py:139\u001b[0m, in \u001b[0;36m_get_path_or_handle\u001b[1;34m(path, fs, storage_options, mode, is_dir)\u001b[0m\n\u001b[0;32m    129\u001b[0m handles \u001b[38;5;241m=\u001b[39m \u001b[38;5;28;01mNone\u001b[39;00m\n\u001b[0;32m    130\u001b[0m \u001b[38;5;28;01mif\u001b[39;00m (\n\u001b[0;32m    131\u001b[0m     \u001b[38;5;129;01mnot\u001b[39;00m fs\n\u001b[0;32m    132\u001b[0m     \u001b[38;5;129;01mand\u001b[39;00m \u001b[38;5;129;01mnot\u001b[39;00m is_dir\n\u001b[1;32m   (...)\u001b[0m\n\u001b[0;32m    137\u001b[0m     \u001b[38;5;66;03m# fsspec resources can also point to directories\u001b[39;00m\n\u001b[0;32m    138\u001b[0m     \u001b[38;5;66;03m# this branch is used for example when reading from non-fsspec URLs\u001b[39;00m\n\u001b[1;32m--> 139\u001b[0m     handles \u001b[38;5;241m=\u001b[39m get_handle(\n\u001b[0;32m    140\u001b[0m         path_or_handle, mode, is_text\u001b[38;5;241m=\u001b[39m\u001b[38;5;28;01mFalse\u001b[39;00m, storage_options\u001b[38;5;241m=\u001b[39mstorage_options\n\u001b[0;32m    141\u001b[0m     )\n\u001b[0;32m    142\u001b[0m     fs \u001b[38;5;241m=\u001b[39m \u001b[38;5;28;01mNone\u001b[39;00m\n\u001b[0;32m    143\u001b[0m     path_or_handle \u001b[38;5;241m=\u001b[39m handles\u001b[38;5;241m.\u001b[39mhandle\n",
      "File \u001b[1;32mc:\\Users\\always_spring\\.conda\\envs\\default\\Lib\\site-packages\\pandas\\io\\common.py:872\u001b[0m, in \u001b[0;36mget_handle\u001b[1;34m(path_or_buf, mode, encoding, compression, memory_map, is_text, errors, storage_options)\u001b[0m\n\u001b[0;32m    863\u001b[0m         handle \u001b[38;5;241m=\u001b[39m \u001b[38;5;28mopen\u001b[39m(\n\u001b[0;32m    864\u001b[0m             handle,\n\u001b[0;32m    865\u001b[0m             ioargs\u001b[38;5;241m.\u001b[39mmode,\n\u001b[1;32m   (...)\u001b[0m\n\u001b[0;32m    868\u001b[0m             newline\u001b[38;5;241m=\u001b[39m\u001b[38;5;124m\"\u001b[39m\u001b[38;5;124m\"\u001b[39m,\n\u001b[0;32m    869\u001b[0m         )\n\u001b[0;32m    870\u001b[0m     \u001b[38;5;28;01melse\u001b[39;00m:\n\u001b[0;32m    871\u001b[0m         \u001b[38;5;66;03m# Binary mode\u001b[39;00m\n\u001b[1;32m--> 872\u001b[0m         handle \u001b[38;5;241m=\u001b[39m \u001b[38;5;28mopen\u001b[39m(handle, ioargs\u001b[38;5;241m.\u001b[39mmode)\n\u001b[0;32m    873\u001b[0m     handles\u001b[38;5;241m.\u001b[39mappend(handle)\n\u001b[0;32m    875\u001b[0m \u001b[38;5;66;03m# Convert BytesIO or file objects passed with an encoding\u001b[39;00m\n",
      "\u001b[1;31mFileNotFoundError\u001b[0m: [Errno 2] No such file or directory: '..\\\\03_Output\\\\A\\\\study.parquet'"
     ]
    }
   ],
   "source": [
    "# 3. Study Dataset에서 Label을 분리하고 N개 Sampling\n",
    "\n",
    "n = 10000 # Sample Size\n",
    "\n",
    "createFolder(samples_a)\n",
    "createFolder(samples_b)\n",
    "\n",
    "A_study = pd.read_parquet(study_a)\n",
    "B_study = pd.read_parquet(study_b)\n",
    "A_study = A_study[A_study[\"label\"] == 0]\n",
    "B_study = B_study[B_study[\"label\"] == 0]\n",
    "\n",
    "print(\"A_study : \", str(len(A_study.index)))\n",
    "print(\"B_study : \", str(len(B_study.index)))\n",
    "\n",
    "A_k = df_sampling(A_study, n, samples_a)\n",
    "B_k = df_sampling(B_study, n, samples_b)\n",
    "\n",
    "print(\"A_K : \", str(A_k))\n",
    "print(\"B_K : \", str(B_k))"
   ]
  },
  {
   "cell_type": "code",
   "execution_count": 4,
   "metadata": {
    "execution": {
     "iopub.execute_input": "2024-04-30T06:57:55.193968Z",
     "iopub.status.busy": "2024-04-30T06:57:55.193968Z",
     "iopub.status.idle": "2024-04-30T23:58:43.275667Z",
     "shell.execute_reply": "2024-04-30T23:58:43.275667Z",
     "shell.execute_reply.started": "2024-04-30T06:57:55.193968Z"
    },
    "tags": []
   },
   "outputs": [
    {
     "name": "stderr",
     "output_type": "stream",
     "text": [
      "진행도: 100%|████████████████████████████████████████████████████████████████████| 272/272 [17:00:47<00:00, 225.18s/it]"
     ]
    },
    {
     "name": "stdout",
     "output_type": "stream",
     "text": [
      "DONE\n"
     ]
    },
    {
     "name": "stderr",
     "output_type": "stream",
     "text": [
      "\n"
     ]
    }
   ],
   "source": [
    "# 5. Sample 별 Prototype Clustering\n",
    "import multiprocessing as mp\n",
    "from functions import *\n",
    "\n",
    "createFolder(clusters_a)\n",
    "createFolder(clusters_b)\n",
    "\n",
    "params = []\n",
    "sample_A = os.listdir(samples_a)\n",
    "sample_B = os.listdir(samples_b)\n",
    "\n",
    "for sample in sample_A:\n",
    "    param = [sample, samples_a, clusters_a]\n",
    "    params.append(param)\n",
    "for sample in sample_B:\n",
    "    param = [sample, samples_b, clusters_b]\n",
    "    params.append(param)\n",
    "\n",
    "with mp.Pool(8) as p:\n",
    "    imap = p.imap(prototype_clustering, params)\n",
    "    results = list(tqdm(imap, total = len(params), desc=\"진행도\"))\n",
    "p.join()\n",
    "p.close()\n",
    "\n",
    "print(\"DONE\")"
   ]
  },
  {
   "cell_type": "code",
   "execution_count": 4,
   "metadata": {
    "execution": {
     "iopub.execute_input": "2024-05-01T00:34:09.178753Z",
     "iopub.status.busy": "2024-05-01T00:34:09.172676Z",
     "iopub.status.idle": "2024-05-01T00:49:18.189727Z",
     "shell.execute_reply": "2024-05-01T00:49:18.188359Z",
     "shell.execute_reply.started": "2024-05-01T00:34:09.178753Z"
    },
    "tags": []
   },
   "outputs": [
    {
     "name": "stderr",
     "output_type": "stream",
     "text": [
      "진행도: 100%|████████████████████████████████████████████████████████████████████████| 272/272 [06:26<00:00,  1.42s/it]\n"
     ]
    },
    {
     "name": "stdout",
     "output_type": "stream",
     "text": [
      "Done ...  1 \t 209518\n",
      "Done ...  10 \t 800137\n",
      "Done ...  2 \t 344414\n",
      "Done ...  20 \t 800137\n",
      "Done ...  30 \t 800137\n",
      "Done ...  4 \t 618483\n",
      "Done ...  40 \t 800137\n",
      "Done ...  50 \t 800137\n",
      "Done ...  8 \t 800137\n",
      "Done ...  1 \t 117181\n",
      "Done ...  10 \t 454997\n",
      "Done ...  2 \t 150680\n",
      "Done ...  20 \t 865618\n",
      "Done ...  30 \t 1291327\n",
      "Done ...  4 \t 222720\n",
      "Done ...  40 \t 1706276\n",
      "Done ...  50 \t 1818841\n",
      "Done ...  8 \t 375572\n",
      "Done\n"
     ]
    }
   ],
   "source": [
    "# 6. Cluster에서 대표값 추출\n",
    "import multiprocessing as mp\n",
    "from tqdm import tqdm\n",
    "\n",
    "createFolder(results_a)\n",
    "createFolder(results_b)\n",
    "\n",
    "params = []\n",
    "samples_A = os.listdir(samples_a)\n",
    "if (\".ipynb_checkpoints\" in samples_A): samples_A.remove(\".ipynb_checkpoints\")\n",
    "samples_B = os.listdir(samples_b)\n",
    "if (\".ipynb_checkpoints\" in samples_B): samples_B.remove(\"ipynb_checkpoints\")\n",
    "\n",
    "for sample in samples_A:\n",
    "    param = [sample, clusters_a, results_a]\n",
    "    params.append(param)\n",
    "for sample in samples_B:\n",
    "    param = [sample, clusters_b, results_b]\n",
    "    params.append(param)\n",
    "    \n",
    "with mp.Pool(8) as p:\n",
    "    imap = p.imap(sample_clustering, params)\n",
    "    results = list(tqdm(imap, total = len(params), desc=\"진행도\"))\n",
    "p.join()\n",
    "p.close()\n",
    "\n",
    "# A\n",
    "ks = os.listdir(results_a)\n",
    "if (\".ipynb_checkpoints\" in ks): ks.remove(\".ipynb_checkpoints\")\n",
    "if (\"result\" in ks): ks.remove(\"result\")\n",
    "os.makedirs(results_a + \"result/\", exist_ok=True)\n",
    "\n",
    "for k in ks:\n",
    "    ans = pd.DataFrame(columns=pd.read_csv(results_a + k + \"\\\\1.parquet_result.csv\").columns)\n",
    "    results = os.listdir(results_a + k + \"\\\\\")\n",
    "    if (\".ipynb_checkpoints\" in results): results.remove(\".ipynb_checkpoints\")\n",
    "    for result in results:\n",
    "        tmp = pd.read_csv(results_a + k + \"\\\\\" + result)\n",
    "        ans = pd.concat([ans, tmp])\n",
    "    ans.to_csv(results_a + \"result\\\\\" + str(k) + \"_result.csv\")\n",
    "    print(\"Done ... \", str(k), \"\\t\", len(ans.index))\n",
    "\n",
    "# B\n",
    "ks = os.listdir(results_b)\n",
    "if (\".ipynb_checkpoints\" in ks): ks.remove(\".ipynb_checkpoints\")\n",
    "if (\"result\" in ks): ks.remove(\"result\")\n",
    "os.makedirs(results_b + \"result/\", exist_ok=True)\n",
    "\n",
    "for k in ks:\n",
    "    ans = pd.DataFrame(columns=pd.read_csv(results_b + k + \"\\\\1.parquet_result.csv\").columns)\n",
    "    results = os.listdir(results_b + k + \"\\\\\")\n",
    "    if (\".ipynb_checkpoints\" in results): results.remove(\".ipynb_checkpoints\")\n",
    "    for result in results:\n",
    "        tmp = pd.read_csv(results_b + k + \"\\\\\" + result)\n",
    "        ans = pd.concat([ans, tmp])\n",
    "    ans.to_csv(results_b + \"result\\\\\" + str(k) + \"_result.csv\")\n",
    "    print(\"Done ... \", str(k), \"\\t\", len(ans.index))\n",
    "\n",
    "print(\"Done\")"
   ]
  },
  {
   "cell_type": "code",
   "execution_count": 6,
   "metadata": {
    "execution": {
     "iopub.execute_input": "2024-05-01T00:54:55.681035Z",
     "iopub.status.busy": "2024-05-01T00:54:55.681035Z",
     "iopub.status.idle": "2024-05-01T01:10:47.845433Z",
     "shell.execute_reply": "2024-05-01T01:10:47.845433Z",
     "shell.execute_reply.started": "2024-05-01T00:54:55.681035Z"
    },
    "tags": []
   },
   "outputs": [
    {
     "name": "stderr",
     "output_type": "stream",
     "text": [
      "100%|████████████████████████████████████████████████████████████████████████| 223652/223652 [00:36<00:00, 6178.04it/s]\n",
      "100%|████████████████████████████████████████████████████████████████████████| 894605/894605 [02:33<00:00, 5814.90it/s]\n"
     ]
    },
    {
     "name": "stdout",
     "output_type": "stream",
     "text": [
      "Before-A\n",
      "F1 Score :  0.9811\n",
      "Accurancy Score :  0.9989\n",
      "Precision Score :  0.9749\n",
      "Recall Score :  0.9874\n",
      "Run Time :  47.34644269943237 sec\n"
     ]
    },
    {
     "name": "stderr",
     "output_type": "stream",
     "text": [
      "100%|████████████████████████████████████████████████████████████████████████| 467334/467334 [01:53<00:00, 4127.00it/s]\n",
      "100%|██████████████████████████████████████████████████████████████████████| 1869338/1869338 [07:43<00:00, 4030.54it/s]\n"
     ]
    },
    {
     "name": "stdout",
     "output_type": "stream",
     "text": [
      "Before-B\n",
      "F1 Score :  0.8312\n",
      "Accurancy Score :  0.9954\n",
      "Precision Score :  0.9329\n",
      "Recall Score :  0.7494\n",
      "Run Time :  120.83888864517212 sec\n"
     ]
    }
   ],
   "source": [
    "# 6-1. ML Test (Before)\n",
    "from sklearn.ensemble import RandomForestClassifier\n",
    "from sklearn.metrics import f1_score, precision_score, recall_score, accuracy_score\n",
    "from tqdm import tqdm\n",
    "import os, time\n",
    "\n",
    "# Malware\n",
    "test = pd.read_parquet(test_a)\n",
    "x_test = []\n",
    "for i in tqdm(range(len(test.index))):\n",
    "    x_test.append(char256(test.iloc[i].payload))\n",
    "y_test = [int(x) for x in test.label.tolist()]\n",
    "\n",
    "study = pd.read_parquet(study_a)\n",
    "x_train = []\n",
    "for i in tqdm(range(len(study.index))):\n",
    "    x_train.append(char256(study.iloc[i].payload))\n",
    "y_train = [int(x) for x in study.label.tolist()]\n",
    "\n",
    "start = time.time()\n",
    "model = RandomForestClassifier(n_estimators=100, random_state=0, n_jobs=-1)\n",
    "model.fit(x_train, y_train)\n",
    "prediction = model.predict(x_test)\n",
    "end = time.time()\n",
    "\n",
    "print(\"Before-A\")\n",
    "print(\"F1 Score : \", round(f1_score(y_test, prediction), 4))\n",
    "print(\"Accurancy Score : \", round(accuracy_score(y_test, prediction), 4))\n",
    "print(\"Precision Score : \", round(precision_score(y_test, prediction), 4))\n",
    "print(\"Recall Score : \", round(recall_score(y_test, prediction), 4))\n",
    "print(\"Run Time : \", end - start, \"sec\")\n",
    "\n",
    "# Web\n",
    "test = pd.read_parquet(test_b)\n",
    "x_test = []\n",
    "for i in tqdm(range(len(test.index))):\n",
    "    x_test.append(char256(test.iloc[i].payload))\n",
    "y_test = [int(x) for x in test.label.tolist()]\n",
    "\n",
    "study = pd.read_parquet(study_b)\n",
    "x_train = []\n",
    "for i in tqdm(range(len(study.index))):\n",
    "    x_train.append(char256(study.iloc[i].payload))\n",
    "y_train = [int(x) for x in study.label.tolist()]\n",
    "\n",
    "start = time.time()\n",
    "model = RandomForestClassifier(n_estimators=100, random_state=0, n_jobs=-1)\n",
    "model.fit(x_train, y_train)\n",
    "prediction = model.predict(x_test)\n",
    "end = time.time()\n",
    "\n",
    "print(\"Before-B\")\n",
    "print(\"F1 Score : \", round(f1_score(y_test, prediction), 4))\n",
    "print(\"Accurancy Score : \", round(accuracy_score(y_test, prediction), 4))\n",
    "print(\"Precision Score : \", round(precision_score(y_test, prediction), 4))\n",
    "print(\"Recall Score : \", round(recall_score(y_test, prediction), 4))\n",
    "print(\"Run Time : \", end - start, \"sec\")"
   ]
  },
  {
   "cell_type": "code",
   "execution_count": 9,
   "metadata": {
    "execution": {
     "iopub.execute_input": "2024-05-02T06:03:04.836229Z",
     "iopub.status.busy": "2024-05-02T06:03:04.836229Z",
     "iopub.status.idle": "2024-05-02T07:10:04.212309Z",
     "shell.execute_reply": "2024-05-02T07:10:04.212309Z",
     "shell.execute_reply.started": "2024-05-02T06:03:04.836229Z"
    },
    "tags": []
   },
   "outputs": [
    {
     "name": "stderr",
     "output_type": "stream",
     "text": [
      "100%|████████████████████████████████████████████████████████████████████████| 223652/223652 [00:33<00:00, 6591.07it/s]\n",
      "100%|████████████████████████████████████████████████████████████████████████| 825187/825187 [02:11<00:00, 6262.21it/s]\n"
     ]
    },
    {
     "name": "stdout",
     "output_type": "stream",
     "text": [
      "A-After : 10\n",
      "F1 Score :  0.9811\n",
      "Accurancy Score :  0.9989\n",
      "Precision Score :  0.9742\n",
      "Recall Score :  0.9882\n",
      "Run Time :  36.69229698181152 sec\n"
     ]
    },
    {
     "name": "stderr",
     "output_type": "stream",
     "text": [
      "100%|████████████████████████████████████████████████████████████████████████| 234568/234568 [00:34<00:00, 6775.16it/s]\n"
     ]
    },
    {
     "name": "stdout",
     "output_type": "stream",
     "text": [
      "A-After : 1\n",
      "F1 Score :  0.9794\n",
      "Accurancy Score :  0.9988\n",
      "Precision Score :  0.9674\n",
      "Recall Score :  0.9917\n",
      "Run Time :  11.934755563735962 sec\n"
     ]
    },
    {
     "name": "stderr",
     "output_type": "stream",
     "text": [
      "100%|████████████████████████████████████████████████████████████████████████| 825187/825187 [02:11<00:00, 6266.87it/s]\n"
     ]
    },
    {
     "name": "stdout",
     "output_type": "stream",
     "text": [
      "A-After : 20\n",
      "F1 Score :  0.9811\n",
      "Accurancy Score :  0.9989\n",
      "Precision Score :  0.9739\n",
      "Recall Score :  0.9885\n",
      "Run Time :  36.94458603858948 sec\n"
     ]
    },
    {
     "name": "stderr",
     "output_type": "stream",
     "text": [
      "100%|████████████████████████████████████████████████████████████████████████| 369464/369464 [00:56<00:00, 6583.89it/s]\n"
     ]
    },
    {
     "name": "stdout",
     "output_type": "stream",
     "text": [
      "A-After : 2\n",
      "F1 Score :  0.981\n",
      "Accurancy Score :  0.9989\n",
      "Precision Score :  0.9702\n",
      "Recall Score :  0.992\n",
      "Run Time :  17.593194007873535 sec\n"
     ]
    },
    {
     "name": "stderr",
     "output_type": "stream",
     "text": [
      "100%|████████████████████████████████████████████████████████████████████████| 825187/825187 [02:09<00:00, 6393.96it/s]\n"
     ]
    },
    {
     "name": "stdout",
     "output_type": "stream",
     "text": [
      "A-After : 30\n",
      "F1 Score :  0.9813\n",
      "Accurancy Score :  0.9989\n",
      "Precision Score :  0.9742\n",
      "Recall Score :  0.9885\n",
      "Run Time :  37.72868514060974 sec\n"
     ]
    },
    {
     "name": "stderr",
     "output_type": "stream",
     "text": [
      "100%|████████████████████████████████████████████████████████████████████████| 825187/825187 [02:12<00:00, 6232.40it/s]\n"
     ]
    },
    {
     "name": "stdout",
     "output_type": "stream",
     "text": [
      "A-After : 40\n",
      "F1 Score :  0.981\n",
      "Accurancy Score :  0.9989\n",
      "Precision Score :  0.9736\n",
      "Recall Score :  0.9885\n",
      "Run Time :  37.408684968948364 sec\n"
     ]
    },
    {
     "name": "stderr",
     "output_type": "stream",
     "text": [
      "100%|████████████████████████████████████████████████████████████████████████| 643533/643533 [01:38<00:00, 6501.97it/s]\n"
     ]
    },
    {
     "name": "stdout",
     "output_type": "stream",
     "text": [
      "A-After : 4\n",
      "F1 Score :  0.9809\n",
      "Accurancy Score :  0.9989\n",
      "Precision Score :  0.9718\n",
      "Recall Score :  0.9901\n",
      "Run Time :  28.534677028656006 sec\n"
     ]
    },
    {
     "name": "stderr",
     "output_type": "stream",
     "text": [
      "100%|████████████████████████████████████████████████████████████████████████| 825187/825187 [02:11<00:00, 6269.83it/s]\n"
     ]
    },
    {
     "name": "stdout",
     "output_type": "stream",
     "text": [
      "A-After : 50\n",
      "F1 Score :  0.9812\n",
      "Accurancy Score :  0.9989\n",
      "Precision Score :  0.9739\n",
      "Recall Score :  0.9887\n",
      "Run Time :  37.29196834564209 sec\n"
     ]
    },
    {
     "name": "stderr",
     "output_type": "stream",
     "text": [
      "100%|████████████████████████████████████████████████████████████████████████| 825187/825187 [02:08<00:00, 6430.90it/s]\n"
     ]
    },
    {
     "name": "stdout",
     "output_type": "stream",
     "text": [
      "A-After : 8\n",
      "F1 Score :  0.9813\n",
      "Accurancy Score :  0.9989\n",
      "Precision Score :  0.9742\n",
      "Recall Score :  0.9885\n",
      "Run Time :  37.98102807998657 sec\n",
      "==============================================\n"
     ]
    },
    {
     "name": "stderr",
     "output_type": "stream",
     "text": [
      "100%|████████████████████████████████████████████████████████████████████████| 467334/467334 [01:48<00:00, 4302.85it/s]\n",
      "100%|████████████████████████████████████████████████████████████████████████| 483219/483219 [01:48<00:00, 4469.58it/s]\n"
     ]
    },
    {
     "name": "stdout",
     "output_type": "stream",
     "text": [
      "B-After : 10\n",
      "F1 Score :  0.7966\n",
      "Accurancy Score :  0.9932\n",
      "Precision Score :  0.7262\n",
      "Recall Score :  0.8822\n",
      "Run Time :  27.55124044418335 sec\n"
     ]
    },
    {
     "name": "stderr",
     "output_type": "stream",
     "text": [
      "100%|████████████████████████████████████████████████████████████████████████| 145403/145403 [00:28<00:00, 5066.37it/s]\n"
     ]
    },
    {
     "name": "stdout",
     "output_type": "stream",
     "text": [
      "B-After : 1\n",
      "F1 Score :  0.698\n",
      "Accurancy Score :  0.988\n",
      "Precision Score :  0.5627\n",
      "Recall Score :  0.9189\n",
      "Run Time :  10.660409688949585 sec\n"
     ]
    },
    {
     "name": "stderr",
     "output_type": "stream",
     "text": [
      "100%|████████████████████████████████████████████████████████████████████████| 893840/893840 [03:32<00:00, 4198.51it/s]\n"
     ]
    },
    {
     "name": "stdout",
     "output_type": "stream",
     "text": [
      "B-After : 20\n",
      "F1 Score :  0.8285\n",
      "Accurancy Score :  0.9949\n",
      "Precision Score :  0.8346\n",
      "Recall Score :  0.8225\n",
      "Run Time :  54.87350296974182 sec\n"
     ]
    },
    {
     "name": "stderr",
     "output_type": "stream",
     "text": [
      "100%|████████████████████████████████████████████████████████████████████████| 178902/178902 [00:37<00:00, 4780.10it/s]\n"
     ]
    },
    {
     "name": "stdout",
     "output_type": "stream",
     "text": [
      "B-After : 2\n",
      "F1 Score :  0.7381\n",
      "Accurancy Score :  0.9902\n",
      "Precision Score :  0.6174\n",
      "Recall Score :  0.9175\n",
      "Run Time :  12.572754621505737 sec\n"
     ]
    },
    {
     "name": "stderr",
     "output_type": "stream",
     "text": [
      "100%|██████████████████████████████████████████████████████████████████████| 1319549/1319549 [05:15<00:00, 4186.78it/s]\n"
     ]
    },
    {
     "name": "stdout",
     "output_type": "stream",
     "text": [
      "B-After : 30\n",
      "F1 Score :  0.8355\n",
      "Accurancy Score :  0.9954\n",
      "Precision Score :  0.8973\n",
      "Recall Score :  0.7817\n",
      "Run Time :  84.82003831863403 sec\n"
     ]
    },
    {
     "name": "stderr",
     "output_type": "stream",
     "text": [
      "100%|██████████████████████████████████████████████████████████████████████| 1734498/1734498 [06:51<00:00, 4216.22it/s]\n"
     ]
    },
    {
     "name": "stdout",
     "output_type": "stream",
     "text": [
      "B-After : 40\n",
      "F1 Score :  0.8327\n",
      "Accurancy Score :  0.9954\n",
      "Precision Score :  0.9211\n",
      "Recall Score :  0.7597\n",
      "Run Time :  116.6675751209259 sec\n"
     ]
    },
    {
     "name": "stderr",
     "output_type": "stream",
     "text": [
      "100%|████████████████████████████████████████████████████████████████████████| 250942/250942 [00:53<00:00, 4655.71it/s]\n"
     ]
    },
    {
     "name": "stdout",
     "output_type": "stream",
     "text": [
      "B-After : 4\n",
      "F1 Score :  0.7686\n",
      "Accurancy Score :  0.9918\n",
      "Precision Score :  0.6679\n",
      "Recall Score :  0.905\n",
      "Run Time :  16.0415940284729 sec\n"
     ]
    },
    {
     "name": "stderr",
     "output_type": "stream",
     "text": [
      "100%|██████████████████████████████████████████████████████████████████████| 1847063/1847063 [07:20<00:00, 4196.02it/s]\n"
     ]
    },
    {
     "name": "stdout",
     "output_type": "stream",
     "text": [
      "B-After : 50\n",
      "F1 Score :  0.8331\n",
      "Accurancy Score :  0.9954\n",
      "Precision Score :  0.9263\n",
      "Recall Score :  0.7569\n",
      "Run Time :  126.9157452583313 sec\n"
     ]
    },
    {
     "name": "stderr",
     "output_type": "stream",
     "text": [
      "100%|████████████████████████████████████████████████████████████████████████| 403794/403794 [01:31<00:00, 4400.16it/s]\n"
     ]
    },
    {
     "name": "stdout",
     "output_type": "stream",
     "text": [
      "B-After : 8\n",
      "F1 Score :  0.7885\n",
      "Accurancy Score :  0.9928\n",
      "Precision Score :  0.7119\n",
      "Recall Score :  0.8835\n",
      "Run Time :  24.138463258743286 sec\n"
     ]
    }
   ],
   "source": [
    "# 6-2. ML Test (After)\n",
    "from sklearn.ensemble import RandomForestClassifier\n",
    "from sklearn.metrics import f1_score, precision_score, recall_score, accuracy_score\n",
    "from tqdm import tqdm\n",
    "import os, time\n",
    "\n",
    "# Malware\n",
    "ans_total = {}\n",
    "test = pd.read_parquet(test_a)\n",
    "x_test = []\n",
    "for i in tqdm(range(len(test.index))):\n",
    "    x_test.append(char256(test.iloc[i].payload))\n",
    "y_test = [int(x) for x in test.label.tolist()]\n",
    "\n",
    "studys = os.listdir(results_a + \"result\\\\\")\n",
    "if (\".ipynb_checkpoints\" in studys): studys.remove(\".ipynb_checkpoints\")\n",
    "for path in studys:\n",
    "    study = pd.read_parquet(study_a)\n",
    "    study = study[study[\"label\"] == 1]\n",
    "    result = pd.read_csv(results_a + \"result\\\\\" + path)\n",
    "    study = pd.concat([study, result])\n",
    "    \n",
    "    x_train = []\n",
    "    for i in tqdm(range(len(study.index))):\n",
    "        x_train.append(char256(study.iloc[i].payload))\n",
    "    y_train = [int(x) for x in study.label.tolist()]\n",
    "    \n",
    "    start = time.time()\n",
    "    model = RandomForestClassifier(n_estimators=100, random_state=0, n_jobs=-1)\n",
    "    model.fit(x_train, y_train)\n",
    "    prediction = model.predict(x_test)\n",
    "    end = time.time()\n",
    "    ans = [f1_score(y_test, prediction), accuracy_score(y_test, prediction), precision_score(y_test, prediction), recall_score(y_test, prediction)]\n",
    "    name = path[:path.find('_')]\n",
    "    ans_total[name] = ans\n",
    "    print(f\"A-After : {name}\")\n",
    "    print(\"F1 Score : \", round(f1_score(y_test, prediction), 4))\n",
    "    print(\"Accurancy Score : \", round(accuracy_score(y_test, prediction), 4))\n",
    "    print(\"Precision Score : \", round(precision_score(y_test, prediction), 4))\n",
    "    print(\"Recall Score : \", round(recall_score(y_test, prediction), 4))\n",
    "    print(\"Run Time : \", end - start, \"sec\")\n",
    "\n",
    "print(\"==============================================\")\n",
    "# Web\n",
    "ans_total = {}\n",
    "test = pd.read_parquet(test_b)\n",
    "x_test = []\n",
    "for i in tqdm(range(len(test.index))):\n",
    "    x_test.append(char256(test.iloc[i].payload))\n",
    "y_test = [int(x) for x in test.label.tolist()]\n",
    "\n",
    "studys = os.listdir(results_b + \"result/\")\n",
    "if (\".ipynb_checkpoints\" in studys): studys.remove(\".ipynb_checkpoints\")\n",
    "for path in studys:\n",
    "    study = pd.read_parquet(study_b)\n",
    "    study = study[study[\"label\"] == 1]\n",
    "    result = pd.read_csv(results_b + \"result/\" + path)\n",
    "    study = pd.concat([study, result])\n",
    "    \n",
    "    x_train = []\n",
    "    for i in tqdm(range(len(study.index))):\n",
    "        x_train.append(char256(study.iloc[i].payload))\n",
    "    y_train = [int(x) for x in study[\"label\"].tolist()]\n",
    "    \n",
    "    start = time.time()\n",
    "    model = RandomForestClassifier(n_estimators=100, random_state=0, n_jobs=-1)\n",
    "    model.fit(x_train, y_train)\n",
    "    prediction = model.predict(x_test)\n",
    "    end = time.time()\n",
    "    ans = [f1_score(y_test, prediction), accuracy_score(y_test, prediction), precision_score(y_test, prediction), recall_score(y_test, prediction)]\n",
    "    name = path[:path.find('_')]\n",
    "    ans_total[name] = ans\n",
    "    print(f\"B-After : {name}\")\n",
    "    print(\"F1 Score : \", round(f1_score(y_test, prediction), 4))\n",
    "    print(\"Accurancy Score : \", round(accuracy_score(y_test, prediction), 4))\n",
    "    print(\"Precision Score : \", round(precision_score(y_test, prediction), 4))\n",
    "    print(\"Recall Score : \", round(recall_score(y_test, prediction), 4))\n",
    "    print(\"Run Time : \", end - start, \"sec\")"
   ]
  },
  {
   "cell_type": "code",
   "execution_count": null,
   "metadata": {},
   "outputs": [],
   "source": []
  }
 ],
 "metadata": {
  "kernelspec": {
   "display_name": "Python 3 (ipykernel)",
   "language": "python",
   "name": "python3"
  },
  "language_info": {
   "codemirror_mode": {
    "name": "ipython",
    "version": 3
   },
   "file_extension": ".py",
   "mimetype": "text/x-python",
   "name": "python",
   "nbconvert_exporter": "python",
   "pygments_lexer": "ipython3",
   "version": "3.11.7"
  }
 },
 "nbformat": 4,
 "nbformat_minor": 4
}
